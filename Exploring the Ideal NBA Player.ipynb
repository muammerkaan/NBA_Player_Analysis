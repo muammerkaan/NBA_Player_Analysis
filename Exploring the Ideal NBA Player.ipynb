{
 "cells": [
  {
   "attachments": {},
   "cell_type": "markdown",
   "metadata": {},
   "source": [
    "# Exploring the Ideal NBA Player"
   ]
  },
  {
   "cell_type": "markdown",
   "metadata": {},
   "source": [
    "## Code\n",
    "#### Steps\n",
    "1. Data Cleaning\n",
    "2. Handling Missing Data with Imputations\n",
    "3. The 3 Questions and Analysis\n",
    "    1. What is the average career length a player has? Does it change based on the age started?\n",
    "    2. Which colleges produce the players with the best stats?\n",
    "    3. How have basketball roles changed over the years?"
   ]
  },
  {
   "cell_type": "markdown",
   "metadata": {},
   "source": [
    "#### Data Cleaning"
   ]
  },
  {
   "cell_type": "code",
   "execution_count": 1,
   "metadata": {},
   "outputs": [],
   "source": [
    "# Importing packages \n",
    "import pandas as pd \n",
    "import seaborn as sns\n",
    "import numpy as np\n",
    "import matplotlib.pyplot as plt"
   ]
  },
  {
   "cell_type": "code",
   "execution_count": 2,
   "metadata": {},
   "outputs": [],
   "source": [
    "# Importing data\n",
    "player_data = pd.read_csv(\"player_data.csv\")\n",
    "season_stats = pd.read_csv(\"Seasons_Stats.csv\")"
   ]
  },
  {
   "cell_type": "markdown",
   "metadata": {},
   "source": [
    "Here, we have two different datasets we can analyze and work with. Let's take a look at the player_data dataset first and explore it. "
   ]
  },
  {
   "cell_type": "code",
   "execution_count": 3,
   "metadata": {
    "scrolled": true
   },
   "outputs": [
    {
     "data": {
      "text/html": [
       "<div>\n",
       "<style scoped>\n",
       "    .dataframe tbody tr th:only-of-type {\n",
       "        vertical-align: middle;\n",
       "    }\n",
       "\n",
       "    .dataframe tbody tr th {\n",
       "        vertical-align: top;\n",
       "    }\n",
       "\n",
       "    .dataframe thead th {\n",
       "        text-align: right;\n",
       "    }\n",
       "</style>\n",
       "<table border=\"1\" class=\"dataframe\">\n",
       "  <thead>\n",
       "    <tr style=\"text-align: right;\">\n",
       "      <th></th>\n",
       "      <th>name</th>\n",
       "      <th>year_start</th>\n",
       "      <th>year_end</th>\n",
       "      <th>position</th>\n",
       "      <th>height</th>\n",
       "      <th>weight</th>\n",
       "      <th>birth_date</th>\n",
       "      <th>college</th>\n",
       "    </tr>\n",
       "  </thead>\n",
       "  <tbody>\n",
       "    <tr>\n",
       "      <th>0</th>\n",
       "      <td>Alaa Abdelnaby</td>\n",
       "      <td>1991</td>\n",
       "      <td>1995</td>\n",
       "      <td>F-C</td>\n",
       "      <td>6-10</td>\n",
       "      <td>240.0</td>\n",
       "      <td>June 24, 1968</td>\n",
       "      <td>Duke University</td>\n",
       "    </tr>\n",
       "    <tr>\n",
       "      <th>1</th>\n",
       "      <td>Zaid Abdul-Aziz</td>\n",
       "      <td>1969</td>\n",
       "      <td>1978</td>\n",
       "      <td>C-F</td>\n",
       "      <td>6-9</td>\n",
       "      <td>235.0</td>\n",
       "      <td>April 7, 1946</td>\n",
       "      <td>Iowa State University</td>\n",
       "    </tr>\n",
       "    <tr>\n",
       "      <th>2</th>\n",
       "      <td>Kareem Abdul-Jabbar</td>\n",
       "      <td>1970</td>\n",
       "      <td>1989</td>\n",
       "      <td>C</td>\n",
       "      <td>7-2</td>\n",
       "      <td>225.0</td>\n",
       "      <td>April 16, 1947</td>\n",
       "      <td>University of California, Los Angeles</td>\n",
       "    </tr>\n",
       "    <tr>\n",
       "      <th>3</th>\n",
       "      <td>Mahmoud Abdul-Rauf</td>\n",
       "      <td>1991</td>\n",
       "      <td>2001</td>\n",
       "      <td>G</td>\n",
       "      <td>6-1</td>\n",
       "      <td>162.0</td>\n",
       "      <td>March 9, 1969</td>\n",
       "      <td>Louisiana State University</td>\n",
       "    </tr>\n",
       "    <tr>\n",
       "      <th>4</th>\n",
       "      <td>Tariq Abdul-Wahad</td>\n",
       "      <td>1998</td>\n",
       "      <td>2003</td>\n",
       "      <td>F</td>\n",
       "      <td>6-6</td>\n",
       "      <td>223.0</td>\n",
       "      <td>November 3, 1974</td>\n",
       "      <td>San Jose State University</td>\n",
       "    </tr>\n",
       "  </tbody>\n",
       "</table>\n",
       "</div>"
      ],
      "text/plain": [
       "                  name  year_start  year_end position height  weight  \\\n",
       "0       Alaa Abdelnaby        1991      1995      F-C   6-10   240.0   \n",
       "1      Zaid Abdul-Aziz        1969      1978      C-F    6-9   235.0   \n",
       "2  Kareem Abdul-Jabbar        1970      1989        C    7-2   225.0   \n",
       "3   Mahmoud Abdul-Rauf        1991      2001        G    6-1   162.0   \n",
       "4    Tariq Abdul-Wahad        1998      2003        F    6-6   223.0   \n",
       "\n",
       "         birth_date                                college  \n",
       "0     June 24, 1968                        Duke University  \n",
       "1     April 7, 1946                  Iowa State University  \n",
       "2    April 16, 1947  University of California, Los Angeles  \n",
       "3     March 9, 1969             Louisiana State University  \n",
       "4  November 3, 1974              San Jose State University  "
      ]
     },
     "execution_count": 3,
     "metadata": {},
     "output_type": "execute_result"
    }
   ],
   "source": [
    "# Exploring player_data dataset\n",
    "player_data.head()"
   ]
  },
  {
   "cell_type": "markdown",
   "metadata": {},
   "source": [
    "#### Handling Missing Data with Imputation"
   ]
  },
  {
   "cell_type": "code",
   "execution_count": 4,
   "metadata": {
    "scrolled": true
   },
   "outputs": [
    {
     "data": {
      "text/plain": [
       "name            0\n",
       "year_start      0\n",
       "year_end        0\n",
       "position        1\n",
       "height          1\n",
       "weight          6\n",
       "birth_date     31\n",
       "college       302\n",
       "dtype: int64"
      ]
     },
     "execution_count": 4,
     "metadata": {},
     "output_type": "execute_result"
    }
   ],
   "source": [
    "# Are there any missing values? \n",
    "player_data.isna().sum()"
   ]
  },
  {
   "cell_type": "markdown",
   "metadata": {},
   "source": [
    "We will handle the missing data in a couple ways. For position, height, and weight, it should be easy to impute the data as we can use the existing data to predict the values. For example, we can use group-wise mean imputation as height, weight, and position usually have correlation. Lastly, for colleges and birth_date, this will be more difficult. However, I think we can do probabilistic imputation and draw from the distribution. This will help maintain the existing distribution of colleges and birthdates."
   ]
  },
  {
   "cell_type": "code",
   "execution_count": 5,
   "metadata": {},
   "outputs": [
    {
     "data": {
      "text/html": [
       "<div>\n",
       "<style scoped>\n",
       "    .dataframe tbody tr th:only-of-type {\n",
       "        vertical-align: middle;\n",
       "    }\n",
       "\n",
       "    .dataframe tbody tr th {\n",
       "        vertical-align: top;\n",
       "    }\n",
       "\n",
       "    .dataframe thead th {\n",
       "        text-align: right;\n",
       "    }\n",
       "</style>\n",
       "<table border=\"1\" class=\"dataframe\">\n",
       "  <thead>\n",
       "    <tr style=\"text-align: right;\">\n",
       "      <th></th>\n",
       "      <th>name</th>\n",
       "      <th>year_start</th>\n",
       "      <th>year_end</th>\n",
       "      <th>position</th>\n",
       "      <th>height</th>\n",
       "      <th>weight</th>\n",
       "      <th>birth_date</th>\n",
       "      <th>college</th>\n",
       "    </tr>\n",
       "  </thead>\n",
       "  <tbody>\n",
       "    <tr>\n",
       "      <th>2142</th>\n",
       "      <td>George Karl</td>\n",
       "      <td>1974</td>\n",
       "      <td>1978</td>\n",
       "      <td>NaN</td>\n",
       "      <td>NaN</td>\n",
       "      <td>NaN</td>\n",
       "      <td>May 12, 1952</td>\n",
       "      <td>University of North Carolina</td>\n",
       "    </tr>\n",
       "  </tbody>\n",
       "</table>\n",
       "</div>"
      ],
      "text/plain": [
       "             name  year_start  year_end position height  weight    birth_date  \\\n",
       "2142  George Karl        1974      1978      NaN    NaN     NaN  May 12, 1952   \n",
       "\n",
       "                           college  \n",
       "2142  University of North Carolina  "
      ]
     },
     "execution_count": 5,
     "metadata": {},
     "output_type": "execute_result"
    }
   ],
   "source": [
    "# Looking at missing position data\n",
    "player_data[player_data['position'].isna()]"
   ]
  },
  {
   "cell_type": "markdown",
   "metadata": {},
   "source": [
    "Unfortunately, it turns out that the player has 3 missing values. In this case, I will just remove this row. Thankfully it is just one player. "
   ]
  },
  {
   "cell_type": "code",
   "execution_count": 6,
   "metadata": {},
   "outputs": [],
   "source": [
    "# Dropping row\n",
    "player_data = player_data.drop(player_data.index[[2142]])"
   ]
  },
  {
   "cell_type": "code",
   "execution_count": 7,
   "metadata": {},
   "outputs": [
    {
     "data": {
      "text/html": [
       "<div>\n",
       "<style scoped>\n",
       "    .dataframe tbody tr th:only-of-type {\n",
       "        vertical-align: middle;\n",
       "    }\n",
       "\n",
       "    .dataframe tbody tr th {\n",
       "        vertical-align: top;\n",
       "    }\n",
       "\n",
       "    .dataframe thead th {\n",
       "        text-align: right;\n",
       "    }\n",
       "</style>\n",
       "<table border=\"1\" class=\"dataframe\">\n",
       "  <thead>\n",
       "    <tr style=\"text-align: right;\">\n",
       "      <th></th>\n",
       "      <th>name</th>\n",
       "      <th>year_start</th>\n",
       "      <th>year_end</th>\n",
       "      <th>position</th>\n",
       "      <th>height</th>\n",
       "      <th>weight</th>\n",
       "      <th>birth_date</th>\n",
       "      <th>college</th>\n",
       "    </tr>\n",
       "  </thead>\n",
       "  <tbody>\n",
       "    <tr>\n",
       "      <th>2360</th>\n",
       "      <td>Dick Lee</td>\n",
       "      <td>1968</td>\n",
       "      <td>1968</td>\n",
       "      <td>F</td>\n",
       "      <td>6-6</td>\n",
       "      <td>NaN</td>\n",
       "      <td>NaN</td>\n",
       "      <td>University of Washington</td>\n",
       "    </tr>\n",
       "    <tr>\n",
       "      <th>2783</th>\n",
       "      <td>Murray Mitchell</td>\n",
       "      <td>1950</td>\n",
       "      <td>1950</td>\n",
       "      <td>C</td>\n",
       "      <td>6-6</td>\n",
       "      <td>NaN</td>\n",
       "      <td>March 19, 1923</td>\n",
       "      <td>Sam Houston State University</td>\n",
       "    </tr>\n",
       "    <tr>\n",
       "      <th>2973</th>\n",
       "      <td>Paul Nolen</td>\n",
       "      <td>1954</td>\n",
       "      <td>1954</td>\n",
       "      <td>C</td>\n",
       "      <td>6-10</td>\n",
       "      <td>NaN</td>\n",
       "      <td>September 3, 1929</td>\n",
       "      <td>Texas Tech University</td>\n",
       "    </tr>\n",
       "    <tr>\n",
       "      <th>4279</th>\n",
       "      <td>Ray Wertis</td>\n",
       "      <td>1947</td>\n",
       "      <td>1948</td>\n",
       "      <td>G</td>\n",
       "      <td>5-11</td>\n",
       "      <td>NaN</td>\n",
       "      <td>January 1, 1922</td>\n",
       "      <td>St. John's University</td>\n",
       "    </tr>\n",
       "    <tr>\n",
       "      <th>4472</th>\n",
       "      <td>Bob Wood</td>\n",
       "      <td>1950</td>\n",
       "      <td>1950</td>\n",
       "      <td>G</td>\n",
       "      <td>5-10</td>\n",
       "      <td>NaN</td>\n",
       "      <td>October 7, 1921</td>\n",
       "      <td>Northern Illinois University</td>\n",
       "    </tr>\n",
       "  </tbody>\n",
       "</table>\n",
       "</div>"
      ],
      "text/plain": [
       "                 name  year_start  year_end position height  weight  \\\n",
       "2360         Dick Lee        1968      1968        F    6-6     NaN   \n",
       "2783  Murray Mitchell        1950      1950        C    6-6     NaN   \n",
       "2973       Paul Nolen        1954      1954        C   6-10     NaN   \n",
       "4279       Ray Wertis        1947      1948        G   5-11     NaN   \n",
       "4472         Bob Wood        1950      1950        G   5-10     NaN   \n",
       "\n",
       "             birth_date                       college  \n",
       "2360                NaN      University of Washington  \n",
       "2783     March 19, 1923  Sam Houston State University  \n",
       "2973  September 3, 1929         Texas Tech University  \n",
       "4279    January 1, 1922         St. John's University  \n",
       "4472    October 7, 1921  Northern Illinois University  "
      ]
     },
     "execution_count": 7,
     "metadata": {},
     "output_type": "execute_result"
    }
   ],
   "source": [
    "# Looking at missing weight data\n",
    "player_data[player_data['weight'].isna()]"
   ]
  },
  {
   "cell_type": "code",
   "execution_count": 8,
   "metadata": {},
   "outputs": [],
   "source": [
    "# Group-wise Mean Imputation\n",
    "player_data.weight = player_data.weight.fillna(player_data.groupby('position')['weight'].transform('mean'))"
   ]
  },
  {
   "cell_type": "code",
   "execution_count": 9,
   "metadata": {
    "scrolled": false
   },
   "outputs": [
    {
     "data": {
      "text/html": [
       "<div>\n",
       "<style scoped>\n",
       "    .dataframe tbody tr th:only-of-type {\n",
       "        vertical-align: middle;\n",
       "    }\n",
       "\n",
       "    .dataframe tbody tr th {\n",
       "        vertical-align: top;\n",
       "    }\n",
       "\n",
       "    .dataframe thead th {\n",
       "        text-align: right;\n",
       "    }\n",
       "</style>\n",
       "<table border=\"1\" class=\"dataframe\">\n",
       "  <thead>\n",
       "    <tr style=\"text-align: right;\">\n",
       "      <th></th>\n",
       "      <th>name</th>\n",
       "      <th>year_start</th>\n",
       "      <th>year_end</th>\n",
       "      <th>position</th>\n",
       "      <th>height</th>\n",
       "      <th>weight</th>\n",
       "      <th>birth_date</th>\n",
       "      <th>college</th>\n",
       "    </tr>\n",
       "  </thead>\n",
       "  <tbody>\n",
       "    <tr>\n",
       "      <th>9</th>\n",
       "      <td>Alex Abrines</td>\n",
       "      <td>2017</td>\n",
       "      <td>2018</td>\n",
       "      <td>G-F</td>\n",
       "      <td>6-6</td>\n",
       "      <td>190.0</td>\n",
       "      <td>August 1, 1993</td>\n",
       "      <td>NaN</td>\n",
       "    </tr>\n",
       "    <tr>\n",
       "      <th>32</th>\n",
       "      <td>Alexis Ajinca</td>\n",
       "      <td>2009</td>\n",
       "      <td>2017</td>\n",
       "      <td>C</td>\n",
       "      <td>7-2</td>\n",
       "      <td>248.0</td>\n",
       "      <td>May 6, 1988</td>\n",
       "      <td>NaN</td>\n",
       "    </tr>\n",
       "    <tr>\n",
       "      <th>38</th>\n",
       "      <td>Furkan Aldemir</td>\n",
       "      <td>2015</td>\n",
       "      <td>2015</td>\n",
       "      <td>F-C</td>\n",
       "      <td>6-10</td>\n",
       "      <td>240.0</td>\n",
       "      <td>August 9, 1991</td>\n",
       "      <td>NaN</td>\n",
       "    </tr>\n",
       "    <tr>\n",
       "      <th>74</th>\n",
       "      <td>David Andersen</td>\n",
       "      <td>2010</td>\n",
       "      <td>2011</td>\n",
       "      <td>C</td>\n",
       "      <td>6-11</td>\n",
       "      <td>245.0</td>\n",
       "      <td>June 23, 1980</td>\n",
       "      <td>NaN</td>\n",
       "    </tr>\n",
       "    <tr>\n",
       "      <th>100</th>\n",
       "      <td>Martynas Andriuskevicius</td>\n",
       "      <td>2006</td>\n",
       "      <td>2006</td>\n",
       "      <td>C</td>\n",
       "      <td>7-2</td>\n",
       "      <td>240.0</td>\n",
       "      <td>March 12, 1986</td>\n",
       "      <td>NaN</td>\n",
       "    </tr>\n",
       "  </tbody>\n",
       "</table>\n",
       "</div>"
      ],
      "text/plain": [
       "                         name  year_start  year_end position height  weight  \\\n",
       "9                Alex Abrines        2017      2018      G-F    6-6   190.0   \n",
       "32              Alexis Ajinca        2009      2017        C    7-2   248.0   \n",
       "38             Furkan Aldemir        2015      2015      F-C   6-10   240.0   \n",
       "74             David Andersen        2010      2011        C   6-11   245.0   \n",
       "100  Martynas Andriuskevicius        2006      2006        C    7-2   240.0   \n",
       "\n",
       "         birth_date college  \n",
       "9    August 1, 1993     NaN  \n",
       "32      May 6, 1988     NaN  \n",
       "38   August 9, 1991     NaN  \n",
       "74    June 23, 1980     NaN  \n",
       "100  March 12, 1986     NaN  "
      ]
     },
     "execution_count": 9,
     "metadata": {},
     "output_type": "execute_result"
    }
   ],
   "source": [
    "# Looking at missing college data and birthdate\n",
    "player_data[player_data['college'].isna()].head()"
   ]
  },
  {
   "cell_type": "code",
   "execution_count": 10,
   "metadata": {},
   "outputs": [],
   "source": [
    "# Probabilistic Imputation for college\n",
    "num_null = player_data.college.isnull().sum() # number of nulls\n",
    "fill_values = player_data.college.dropna().sample(num_null, replace=True)  # draw fill vals from distribution\n",
    "fill_values.index = player_data.loc[player_data.college.isnull()].index  # align the index, which is missing?\n",
    "player_data = player_data.fillna({'college': fill_values.to_dict()})  # fill the vals"
   ]
  },
  {
   "cell_type": "code",
   "execution_count": 11,
   "metadata": {},
   "outputs": [],
   "source": [
    "# Probabilistic Imputation for birth_date\n",
    "num_null = player_data.birth_date.isnull().sum() # number of nulls\n",
    "fill_values = player_data.birth_date.dropna().sample(num_null, replace=True)  # draw fill vals from distribution\n",
    "fill_values.index = player_data.loc[player_data.birth_date.isnull()].index  # align the index, which is missing?\n",
    "player_data = player_data.fillna({'birth_date': fill_values.to_dict()})  # fill the vals"
   ]
  },
  {
   "cell_type": "markdown",
   "metadata": {},
   "source": [
    "### A couple questions come to mind from seeing our dataset. \n",
    "1. What is the average career length a player has? Does it change based on the age?\n",
    "2. Which colleges produce the players with the best stats?\n",
    "3. How are position roles changing?  "
   ]
  },
  {
   "cell_type": "markdown",
   "metadata": {},
   "source": [
    "#### 1. What is the average career length a player has? Does it change based on the age started?"
   ]
  },
  {
   "cell_type": "code",
   "execution_count": 12,
   "metadata": {},
   "outputs": [
    {
     "data": {
      "text/plain": [
       "0    1317\n",
       "1     566\n",
       "2     394\n",
       "3     314\n",
       "4     244\n",
       "Name: career_length, dtype: int64"
      ]
     },
     "execution_count": 12,
     "metadata": {},
     "output_type": "execute_result"
    }
   ],
   "source": [
    "player_data['career_length'] = player_data.year_end - player_data.year_start\n",
    "player_data['career_length'].value_counts().head()"
   ]
  },
  {
   "cell_type": "markdown",
   "metadata": {},
   "source": [
    "What stands out to me is the high frequency of 0 year careers. You would think that most careers would be at least couple years. I want to see what type of players have such a short basketball career."
   ]
  },
  {
   "cell_type": "code",
   "execution_count": 13,
   "metadata": {},
   "outputs": [
    {
     "data": {
      "text/html": [
       "<div>\n",
       "<style scoped>\n",
       "    .dataframe tbody tr th:only-of-type {\n",
       "        vertical-align: middle;\n",
       "    }\n",
       "\n",
       "    .dataframe tbody tr th {\n",
       "        vertical-align: top;\n",
       "    }\n",
       "\n",
       "    .dataframe thead th {\n",
       "        text-align: right;\n",
       "    }\n",
       "</style>\n",
       "<table border=\"1\" class=\"dataframe\">\n",
       "  <thead>\n",
       "    <tr style=\"text-align: right;\">\n",
       "      <th></th>\n",
       "      <th>name</th>\n",
       "      <th>year_start</th>\n",
       "      <th>year_end</th>\n",
       "      <th>position</th>\n",
       "      <th>height</th>\n",
       "      <th>weight</th>\n",
       "      <th>birth_date</th>\n",
       "      <th>college</th>\n",
       "      <th>career_length</th>\n",
       "    </tr>\n",
       "  </thead>\n",
       "  <tbody>\n",
       "    <tr>\n",
       "      <th>7</th>\n",
       "      <td>Forest Able</td>\n",
       "      <td>1957</td>\n",
       "      <td>1957</td>\n",
       "      <td>G</td>\n",
       "      <td>6-3</td>\n",
       "      <td>180.0</td>\n",
       "      <td>July 27, 1932</td>\n",
       "      <td>Western Kentucky University</td>\n",
       "      <td>0</td>\n",
       "    </tr>\n",
       "    <tr>\n",
       "      <th>11</th>\n",
       "      <td>Don Ackerman</td>\n",
       "      <td>1954</td>\n",
       "      <td>1954</td>\n",
       "      <td>G</td>\n",
       "      <td>6-0</td>\n",
       "      <td>183.0</td>\n",
       "      <td>September 4, 1930</td>\n",
       "      <td>Long Island University</td>\n",
       "      <td>0</td>\n",
       "    </tr>\n",
       "    <tr>\n",
       "      <th>13</th>\n",
       "      <td>Bud Acton</td>\n",
       "      <td>1968</td>\n",
       "      <td>1968</td>\n",
       "      <td>F</td>\n",
       "      <td>6-6</td>\n",
       "      <td>210.0</td>\n",
       "      <td>January 11, 1942</td>\n",
       "      <td>Hillsdale College</td>\n",
       "      <td>0</td>\n",
       "    </tr>\n",
       "    <tr>\n",
       "      <th>23</th>\n",
       "      <td>Bam Adebayo</td>\n",
       "      <td>2018</td>\n",
       "      <td>2018</td>\n",
       "      <td>C-F</td>\n",
       "      <td>6-10</td>\n",
       "      <td>243.0</td>\n",
       "      <td>July 18, 1997</td>\n",
       "      <td>University of Kentucky</td>\n",
       "      <td>0</td>\n",
       "    </tr>\n",
       "    <tr>\n",
       "      <th>31</th>\n",
       "      <td>Matthew Aitch</td>\n",
       "      <td>1968</td>\n",
       "      <td>1968</td>\n",
       "      <td>F</td>\n",
       "      <td>6-7</td>\n",
       "      <td>230.0</td>\n",
       "      <td>September 21, 1944</td>\n",
       "      <td>Michigan State University</td>\n",
       "      <td>0</td>\n",
       "    </tr>\n",
       "  </tbody>\n",
       "</table>\n",
       "</div>"
      ],
      "text/plain": [
       "             name  year_start  year_end position height  weight  \\\n",
       "7     Forest Able        1957      1957        G    6-3   180.0   \n",
       "11   Don Ackerman        1954      1954        G    6-0   183.0   \n",
       "13      Bud Acton        1968      1968        F    6-6   210.0   \n",
       "23    Bam Adebayo        2018      2018      C-F   6-10   243.0   \n",
       "31  Matthew Aitch        1968      1968        F    6-7   230.0   \n",
       "\n",
       "            birth_date                      college  career_length  \n",
       "7        July 27, 1932  Western Kentucky University              0  \n",
       "11   September 4, 1930       Long Island University              0  \n",
       "13    January 11, 1942            Hillsdale College              0  \n",
       "23       July 18, 1997       University of Kentucky              0  \n",
       "31  September 21, 1944    Michigan State University              0  "
      ]
     },
     "execution_count": 13,
     "metadata": {},
     "output_type": "execute_result"
    }
   ],
   "source": [
    "# Dataset with only players with 0 years in career\n",
    "player_data[player_data.career_length == 0].head()"
   ]
  },
  {
   "cell_type": "markdown",
   "metadata": {},
   "source": [
    "I want to see if their age when they started in the NBA was a factor."
   ]
  },
  {
   "cell_type": "code",
   "execution_count": 14,
   "metadata": {},
   "outputs": [],
   "source": [
    "# Extracting Birth year and getting age when they started\n",
    "birth_year = player_data.birth_date.str.split(\",\")\n",
    "temp = birth_year.apply(lambda x: int(x[1]))\n",
    "player_data['birth_year'] = temp\n",
    "player_data['age_started'] = player_data['year_start'] - player_data['birth_year']"
   ]
  },
  {
   "cell_type": "code",
   "execution_count": 15,
   "metadata": {},
   "outputs": [],
   "source": [
    "# Relationship between Age started and Career Length\n",
    "mean_ages = []\n",
    "career = []\n",
    "for i in range(23): \n",
    "    mean_ages.append(player_data[player_data.career_length == i].age_started.mean())\n",
    "    career.append(i)"
   ]
  },
  {
   "cell_type": "code",
   "execution_count": 16,
   "metadata": {},
   "outputs": [
    {
     "data": {
      "text/plain": [
       "Text(0, 0.5, 'Career Length (Years)')"
      ]
     },
     "execution_count": 16,
     "metadata": {},
     "output_type": "execute_result"
    },
    {
     "data": {
      "image/png": "[encoded data removed]",
      "text/plain": [
       "<Figure size 432x288 with 1 Axes>"
      ]
     },
     "metadata": {
      "needs_background": "light"
     },
     "output_type": "display_data"
    }
   ],
   "source": [
    "ax = sns.scatterplot(x=mean_ages, y=career)\n",
    "plt.title('Relationship between Career Length and Age Started')\n",
    "plt.xlabel('Average Age Started')\n",
    "plt.ylabel('Career Length (Years)')\n",
    "# plt.savefig(\"career_age\")"
   ]
  },
  {
   "cell_type": "markdown",
   "metadata": {},
   "source": [
    "According to our data, the younger you start in the NBA, the longer your NBA career will be. This makes sense as players who start when they are younger tend to do so because coaches believe in their ability. But also, since the retirement typically occurs in the 30s, if you start earlier there is more time before your retirement. However, what is interesting is that players who start around 24, have an average career length of 2-3 years, which would mean they retire around 26-27 while the average NBA retirement age is 36-39.\n",
    "\n",
    "As a result, we will conclude that players from 21 to 22.5 years old are the optimal age group for career longetivity and long term investment."
   ]
  },
  {
   "cell_type": "markdown",
   "metadata": {},
   "source": [
    "#### 2. Which colleges produce the best stat players?"
   ]
  },
  {
   "cell_type": "markdown",
   "metadata": {},
   "source": [
    "In order to answer this question, we will use the season_stats dataset we imported in the beginning and merge it with out player_data dataset. "
   ]
  },
  {
   "cell_type": "code",
   "execution_count": 17,
   "metadata": {},
   "outputs": [],
   "source": [
    "# Merging Dataframe on 'name'\n",
    "season_stats = season_stats.rename(columns={\"Player\": \"name\"})\n",
    "merged = pd.merge(player_data, season_stats, on='name')"
   ]
  },
  {
   "cell_type": "code",
   "execution_count": 18,
   "metadata": {},
   "outputs": [
    {
     "data": {
      "text/plain": [
       "Index(['name', 'year_start', 'year_end', 'position', 'height', 'weight',\n",
       "       'birth_date', 'college', 'career_length', 'birth_year', 'age_started',\n",
       "       'Unnamed: 0', 'Year', 'Pos', 'Age', 'Tm', 'G', 'GS', 'MP', 'PER', 'TS%',\n",
       "       '3PAr', 'FTr', 'ORB%', 'DRB%', 'TRB%', 'AST%', 'STL%', 'BLK%', 'TOV%',\n",
       "       'USG%', 'blanl', 'OWS', 'DWS', 'WS', 'WS/48', 'blank2', 'OBPM', 'DBPM',\n",
       "       'BPM', 'VORP', 'FG', 'FGA', 'FG%', '3P', '3PA', '3P%', '2P', '2PA',\n",
       "       '2P%', 'eFG%', 'FT', 'FTA', 'FT%', 'ORB', 'DRB', 'TRB', 'AST', 'STL',\n",
       "       'BLK', 'TOV', 'PF', 'PTS'],\n",
       "      dtype='object')"
      ]
     },
     "execution_count": 18,
     "metadata": {},
     "output_type": "execute_result"
    }
   ],
   "source": [
    "# Let's see if we can remove some columns\n",
    "merged.columns"
   ]
  },
  {
   "cell_type": "code",
   "execution_count": 19,
   "metadata": {},
   "outputs": [],
   "source": [
    "# Dropping repetitive or irrelevant columns\n",
    "merged = merged.drop(columns=['Unnamed: 0','blanl','blank2','Pos','birth_date'])"
   ]
  },
  {
   "cell_type": "code",
   "execution_count": 20,
   "metadata": {},
   "outputs": [
    {
     "data": {
      "text/plain": [
       "name                0\n",
       "year_start          0\n",
       "year_end            0\n",
       "position            0\n",
       "height              0\n",
       "weight              0\n",
       "college             0\n",
       "career_length       0\n",
       "birth_year          0\n",
       "age_started         0\n",
       "Year                0\n",
       "Age                 8\n",
       "Tm                  0\n",
       "G                   0\n",
       "GS               5482\n",
       "MP                443\n",
       "PER               475\n",
       "TS%                87\n",
       "3PAr             4918\n",
       "FTr               101\n",
       "ORB%             3139\n",
       "DRB%             3139\n",
       "TRB%             2460\n",
       "AST%             1675\n",
       "STL%             3139\n",
       "BLK%             3139\n",
       "TOV%             4234\n",
       "USG%             4175\n",
       "OWS                34\n",
       "DWS                34\n",
       "WS                 34\n",
       "WS/48             475\n",
       "OBPM             3134\n",
       "DBPM             3134\n",
       "BPM              3134\n",
       "VORP             3134\n",
       "FG                  0\n",
       "FGA                 0\n",
       "FG%               101\n",
       "3P               4829\n",
       "3PA              4829\n",
       "3P%              8324\n",
       "2P                  0\n",
       "2PA                 0\n",
       "2P%               134\n",
       "eFG%              101\n",
       "FT                  0\n",
       "FTA                 0\n",
       "FT%               881\n",
       "ORB              3134\n",
       "DRB              3134\n",
       "TRB               292\n",
       "AST                 0\n",
       "STL              3134\n",
       "BLK              3134\n",
       "TOV              4170\n",
       "PF                  0\n",
       "PTS                 0\n",
       "dtype: int64"
      ]
     },
     "execution_count": 20,
     "metadata": {},
     "output_type": "execute_result"
    }
   ],
   "source": [
    "# Looking at missingess\n",
    "merged.isna().sum()"
   ]
  },
  {
   "cell_type": "markdown",
   "metadata": {},
   "source": [
    "Looks like there are a lot of missing stats data. We will have to figure out what we should do with them. "
   ]
  },
  {
   "cell_type": "code",
   "execution_count": 21,
   "metadata": {},
   "outputs": [
    {
     "data": {
      "text/plain": [
       "5268"
      ]
     },
     "execution_count": 21,
     "metadata": {},
     "output_type": "execute_result"
    }
   ],
   "source": [
    "# Looking at GS (Games Started)\n",
    "(merged.GS == 0).sum()"
   ]
  },
  {
   "cell_type": "markdown",
   "metadata": {},
   "source": [
    "We will drop players with 0 games played as the missing values in stats would be due to this. If there are no games played, there will be no stats to obtain. "
   ]
  },
  {
   "cell_type": "code",
   "execution_count": 22,
   "metadata": {},
   "outputs": [
    {
     "data": {
      "text/plain": [
       "name                0\n",
       "year_start          0\n",
       "year_end            0\n",
       "position            0\n",
       "height              0\n",
       "weight              0\n",
       "college             0\n",
       "career_length       0\n",
       "birth_year          0\n",
       "age_started         0\n",
       "Year                0\n",
       "Age                 0\n",
       "Tm                  0\n",
       "G                   0\n",
       "GS                  0\n",
       "MP                  0\n",
       "PER                 0\n",
       "TS%                 0\n",
       "3PAr                0\n",
       "FTr                 0\n",
       "ORB%                0\n",
       "DRB%                0\n",
       "TRB%                0\n",
       "AST%                0\n",
       "STL%                0\n",
       "BLK%                0\n",
       "TOV%                0\n",
       "USG%                0\n",
       "OWS                 0\n",
       "DWS                 0\n",
       "WS                  0\n",
       "WS/48               0\n",
       "OBPM                0\n",
       "DBPM                0\n",
       "BPM                 0\n",
       "VORP                0\n",
       "FG                  0\n",
       "FGA                 0\n",
       "FG%                 0\n",
       "3P                  0\n",
       "3PA                 0\n",
       "3P%              1540\n",
       "2P                  0\n",
       "2PA                 0\n",
       "2P%                 1\n",
       "eFG%                0\n",
       "FT                  0\n",
       "FTA                 0\n",
       "FT%                28\n",
       "ORB                 0\n",
       "DRB                 0\n",
       "TRB                 0\n",
       "AST                 0\n",
       "STL                 0\n",
       "BLK                 0\n",
       "TOV                 0\n",
       "PF                  0\n",
       "PTS                 0\n",
       "dtype: int64"
      ]
     },
     "execution_count": 22,
     "metadata": {},
     "output_type": "execute_result"
    }
   ],
   "source": [
    "merged = merged[merged.GS > 0]\n",
    "merged.isna().sum()"
   ]
  },
  {
   "cell_type": "markdown",
   "metadata": {},
   "source": [
    "Looks like it solved most of our missingness! "
   ]
  },
  {
   "cell_type": "code",
   "execution_count": 23,
   "metadata": {},
   "outputs": [
    {
     "data": {
      "text/html": [
       "<div>\n",
       "<style scoped>\n",
       "    .dataframe tbody tr th:only-of-type {\n",
       "        vertical-align: middle;\n",
       "    }\n",
       "\n",
       "    .dataframe tbody tr th {\n",
       "        vertical-align: top;\n",
       "    }\n",
       "\n",
       "    .dataframe thead th {\n",
       "        text-align: right;\n",
       "    }\n",
       "</style>\n",
       "<table border=\"1\" class=\"dataframe\">\n",
       "  <thead>\n",
       "    <tr style=\"text-align: right;\">\n",
       "      <th></th>\n",
       "      <th>3P</th>\n",
       "      <th>3PA</th>\n",
       "      <th>3P%</th>\n",
       "    </tr>\n",
       "  </thead>\n",
       "  <tbody>\n",
       "    <tr>\n",
       "      <th>1</th>\n",
       "      <td>0.0</td>\n",
       "      <td>0.0</td>\n",
       "      <td>NaN</td>\n",
       "    </tr>\n",
       "    <tr>\n",
       "      <th>4</th>\n",
       "      <td>0.0</td>\n",
       "      <td>0.0</td>\n",
       "      <td>NaN</td>\n",
       "    </tr>\n",
       "    <tr>\n",
       "      <th>70</th>\n",
       "      <td>0.0</td>\n",
       "      <td>0.0</td>\n",
       "      <td>NaN</td>\n",
       "    </tr>\n",
       "    <tr>\n",
       "      <th>77</th>\n",
       "      <td>0.0</td>\n",
       "      <td>0.0</td>\n",
       "      <td>NaN</td>\n",
       "    </tr>\n",
       "    <tr>\n",
       "      <th>97</th>\n",
       "      <td>0.0</td>\n",
       "      <td>0.0</td>\n",
       "      <td>NaN</td>\n",
       "    </tr>\n",
       "  </tbody>\n",
       "</table>\n",
       "</div>"
      ],
      "text/plain": [
       "     3P  3PA  3P%\n",
       "1   0.0  0.0  NaN\n",
       "4   0.0  0.0  NaN\n",
       "70  0.0  0.0  NaN\n",
       "77  0.0  0.0  NaN\n",
       "97  0.0  0.0  NaN"
      ]
     },
     "execution_count": 23,
     "metadata": {},
     "output_type": "execute_result"
    }
   ],
   "source": [
    "# Looking at 3P% (3 Point Percentage)\n",
    "merged[merged[\"3P%\"].isna()].iloc[:,39:42].head()"
   ]
  },
  {
   "cell_type": "markdown",
   "metadata": {},
   "source": [
    "Missingness of 3p% is dependent on 3p made and 3p attempts. Since these players never made an attempt to shoot, we want to see what positions these players are typically in to conclude whether or not we should remove these players."
   ]
  },
  {
   "cell_type": "code",
   "execution_count": 24,
   "metadata": {},
   "outputs": [
    {
     "data": {
      "text/plain": [
       "C      1141\n",
       "F      1033\n",
       "F-C     846\n",
       "C-F     439\n",
       "G       232\n",
       "F-G      72\n",
       "G-F      66\n",
       "Name: position, dtype: int64"
      ]
     },
     "execution_count": 24,
     "metadata": {},
     "output_type": "execute_result"
    }
   ],
   "source": [
    "merged[merged[\"3P\"] == 0].position.value_counts()"
   ]
  },
  {
   "cell_type": "markdown",
   "metadata": {},
   "source": [
    "Most players seem to be in the Center or Forward position combination. These positions are notable for driving into the paint and not doing many 3 pters (if any). We will keep these rows. "
   ]
  },
  {
   "cell_type": "markdown",
   "metadata": {},
   "source": [
    "Our next step is to determine which stats are suitable metrics of comparisons. We will use Player Win Score as our metric. \n",
    "\n",
    "\n",
    "**player win score = \n",
    "points + rebounds + steals + .5(assists) + .5(blocked shots) - FG attempts - turnovers - .5(FT attempts) - .5(personal fouls)** "
   ]
  },
  {
   "cell_type": "code",
   "execution_count": 25,
   "metadata": {},
   "outputs": [
    {
     "data": {
      "text/plain": [
       "Index(['name', 'year_start', 'year_end', 'position', 'height', 'weight',\n",
       "       'college', 'career_length', 'birth_year', 'age_started', 'Year', 'Age',\n",
       "       'Tm', 'G', 'GS', 'MP', 'PER', 'TS%', '3PAr', 'FTr', 'ORB%', 'DRB%',\n",
       "       'TRB%', 'AST%', 'STL%', 'BLK%', 'TOV%', 'USG%', 'OWS', 'DWS', 'WS',\n",
       "       'WS/48', 'OBPM', 'DBPM', 'BPM', 'VORP', 'FG', 'FGA', 'FG%', '3P', '3PA',\n",
       "       '3P%', '2P', '2PA', '2P%', 'eFG%', 'FT', 'FTA', 'FT%', 'ORB', 'DRB',\n",
       "       'TRB', 'AST', 'STL', 'BLK', 'TOV', 'PF', 'PTS'],\n",
       "      dtype='object')"
      ]
     },
     "execution_count": 25,
     "metadata": {},
     "output_type": "execute_result"
    }
   ],
   "source": [
    "merged.columns"
   ]
  },
  {
   "cell_type": "code",
   "execution_count": 26,
   "metadata": {},
   "outputs": [],
   "source": [
    "merged[\"player_win_score\"] = (merged.PTS + merged.TRB + merged.STL + .5 * merged.AST + \n",
    "        .5 * merged.BLK - merged.FGA - merged.TOV - .5 * merged.FTA - .5 * merged.PF)"
   ]
  },
  {
   "cell_type": "code",
   "execution_count": 27,
   "metadata": {
    "scrolled": true
   },
   "outputs": [
    {
     "data": {
      "text/plain": [
       "<AxesSubplot: >"
      ]
     },
     "execution_count": 27,
     "metadata": {},
     "output_type": "execute_result"
    },
    {
     "data": {
      "image/png": "[encoded data removed]",
      "text/plain": [
       "<Figure size 432x288 with 1 Axes>"
      ]
     },
     "metadata": {
      "needs_background": "light"
     },
     "output_type": "display_data"
    }
   ],
   "source": [
    "# Distribution of Player Win Scores\n",
    "merged.player_win_score.hist()"
   ]
  },
  {
   "cell_type": "markdown",
   "metadata": {},
   "source": [
    "Because there are players with more than one season, we want to get the player_win_score mean for all of the players' seasons. We also want colleges with data on at least 3 players. "
   ]
  },
  {
   "cell_type": "code",
   "execution_count": 28,
   "metadata": {},
   "outputs": [],
   "source": [
    "# Removing Colleges with 2 or less players \n",
    "min_3 = merged[merged.groupby('college').name.transform('nunique') >= 3].copy()"
   ]
  },
  {
   "cell_type": "code",
   "execution_count": 29,
   "metadata": {},
   "outputs": [],
   "source": [
    "# Getting mean for players with multiple seasons and dropping the duplicate rows \n",
    "mean_player_win_score = min_3.groupby('name')['player_win_score'].mean()\n",
    "colleges = pd.DataFrame(mean_player_win_score)\n",
    "name_to_college = min_3[['name','college']].drop_duplicates().set_index(\"name\").copy()"
   ]
  },
  {
   "cell_type": "code",
   "execution_count": 30,
   "metadata": {},
   "outputs": [
    {
     "data": {
      "text/plain": [
       "college\n",
       "Louisiana Tech University      444.535065\n",
       "Virginia Union University      391.563725\n",
       "Tennessee State University     384.775000\n",
       "San Diego State University     342.862500\n",
       "Central Michigan University    322.703049\n",
       "Name: player_win_score, dtype: float64"
      ]
     },
     "execution_count": 30,
     "metadata": {},
     "output_type": "execute_result"
    }
   ],
   "source": [
    "colleges.join(name_to_college).groupby('college')['player_win_score'].mean().sort_values(ascending=False).head()"
   ]
  },
  {
   "cell_type": "markdown",
   "metadata": {},
   "source": [
    "From our results, based on player win score, Louisiana Tech University produces the best players. "
   ]
  },
  {
   "cell_type": "markdown",
   "metadata": {},
   "source": [
    "#### 3. How have basketball roles changed over the years?\n",
    "In this section, we will look at  change in player win score by position, change in 3 point attempts by position, and change in height and weight by position. This way we will be able to observe and analyze a player's technical ability as well as their physicality. "
   ]
  },
  {
   "cell_type": "code",
   "execution_count": 31,
   "metadata": {
    "scrolled": true
   },
   "outputs": [
    {
     "data": {
      "text/plain": [
       "G      4225\n",
       "F      3101\n",
       "F-C    1498\n",
       "C      1406\n",
       "G-F    1102\n",
       "F-G     744\n",
       "C-F     640\n",
       "Name: position, dtype: int64"
      ]
     },
     "execution_count": 31,
     "metadata": {},
     "output_type": "execute_result"
    }
   ],
   "source": [
    "# Seeing the position names and distribution of positions\n",
    "merged.position.value_counts()"
   ]
  },
  {
   "cell_type": "markdown",
   "metadata": {},
   "source": [
    "Looks like there are some typos for the position names. For example, C-F should be F-C to represent Forward Center, and F-G should be G-F for Guard Forward."
   ]
  },
  {
   "cell_type": "code",
   "execution_count": 32,
   "metadata": {},
   "outputs": [],
   "source": [
    "# Fixing Typos in Positions\n",
    "merged.position = merged.position.str.replace('C-F','F-C')\n",
    "merged.position = merged.position.str.replace('F-G','G-F')"
   ]
  },
  {
   "cell_type": "markdown",
   "metadata": {},
   "source": [
    "#### Player Win Score "
   ]
  },
  {
   "cell_type": "code",
   "execution_count": 33,
   "metadata": {},
   "outputs": [
    {
     "data": {
      "text/plain": [
       "Text(0.5, 1.0, 'Change in player win score by position')"
      ]
     },
     "execution_count": 33,
     "metadata": {},
     "output_type": "execute_result"
    },
    {
     "data": {
      "image/png": "[encoded data removed]",
      "text/plain": [
       "<Figure size 432x288 with 1 Axes>"
      ]
     },
     "metadata": {
      "needs_background": "light"
     },
     "output_type": "display_data"
    }
   ],
   "source": [
    "# Looking at player win score \n",
    "ax = sns.lineplot(x=\"Year\", y=\"player_win_score\", hue=\"position\",err_style = None,\n",
    "                  data=merged)\n",
    "ax.set_title('Change in player win score by position')\n",
    "# plt.savefig(\"player_win_score\")"
   ]
  },
  {
   "cell_type": "markdown",
   "metadata": {},
   "source": [
    "From this graph, the position that stands out to me is the Center position. It looks like, from the early 2010s, the Center position began to have a bigger impact in winning games. Are centers becoming more offensive over the recent years? Are they becoming more technical with better dribbling and shooting ability? "
   ]
  },
  {
   "cell_type": "markdown",
   "metadata": {},
   "source": [
    "#### 3 Point Attempts"
   ]
  },
  {
   "cell_type": "code",
   "execution_count": 34,
   "metadata": {},
   "outputs": [
    {
     "data": {
      "text/plain": [
       "Text(0.5, 1.0, 'Change in 3 point attempts by position')"
      ]
     },
     "execution_count": 34,
     "metadata": {},
     "output_type": "execute_result"
    },
    {
     "data": {
      "image/png": "[encoded data removed]",
      "text/plain": [
       "<Figure size 432x288 with 1 Axes>"
      ]
     },
     "metadata": {
      "needs_background": "light"
     },
     "output_type": "display_data"
    }
   ],
   "source": [
    "# 3PA and Year \n",
    "ax = sns.lineplot(x=\"Year\", y=\"3PA\", hue=\"position\",err_style = None,\n",
    "                  data=merged)\n",
    "ax.set_title('Change in 3 point attempts by position')\n",
    "# plt.savefig(\"3_point_attempts\")"
   ]
  },
  {
   "cell_type": "markdown",
   "metadata": {},
   "source": [
    "It is interesting to see that all positions have increasing in 3 point attempts throughout the years. However, for Centers, it has been a recent development. This goes in line with our graph for player win score. Centers are becoming more offensive and willing to shoot from the 3 point line. This goes for all positions. Basketball is focusing more on shooting rather than driving into the paint and getting a layup. "
   ]
  },
  {
   "cell_type": "markdown",
   "metadata": {},
   "source": [
    "#### Weight"
   ]
  },
  {
   "cell_type": "code",
   "execution_count": 35,
   "metadata": {},
   "outputs": [
    {
     "data": {
      "text/plain": [
       "Text(0.5, 1.0, 'Change in Weight by position')"
      ]
     },
     "execution_count": 35,
     "metadata": {},
     "output_type": "execute_result"
    },
    {
     "data": {
      "image/png": "[encoded data removed]",
      "text/plain": [
       "<Figure size 432x288 with 1 Axes>"
      ]
     },
     "metadata": {
      "needs_background": "light"
     },
     "output_type": "display_data"
    }
   ],
   "source": [
    "ax = sns.lineplot(x=\"Year\", y=\"weight\", hue=\"position\",err_style = None,\n",
    "                  data=merged)\n",
    "ax.set_title('Change in Weight by position')\n",
    "# plt.savefig(\"weight\")"
   ]
  },
  {
   "cell_type": "markdown",
   "metadata": {},
   "source": [
    "Here, we see that, except for guards, players' weights are increasing as well. It looks like weights for point guards have dipped from 1983 to 1990, and are recovering back to their 1980s weights. As the physicality of the NBA increases, players will look to be stronger and faster through physical and strength training. "
   ]
  },
  {
   "cell_type": "markdown",
   "metadata": {},
   "source": [
    "#### Height"
   ]
  },
  {
   "cell_type": "code",
   "execution_count": 36,
   "metadata": {},
   "outputs": [
    {
     "data": {
      "text/plain": [
       "Text(0.5, 1.0, 'Change in Height by position')"
      ]
     },
     "execution_count": 36,
     "metadata": {},
     "output_type": "execute_result"
    },
    {
     "data": {
      "image/png": "[encoded data removed]",
      "text/plain": [
       "<Figure size 432x288 with 1 Axes>"
      ]
     },
     "metadata": {
      "needs_background": "light"
     },
     "output_type": "display_data"
    }
   ],
   "source": [
    "ax = sns.lineplot(x=\"Year\", y=merged.height.str.replace(\"-\",\".\").astype(float), hue=\"position\",err_style = None,\n",
    "                  data=merged)\n",
    "ax.set_title('Change in Height by position')\n",
    "# plt.savefig(\"height\")"
   ]
  },
  {
   "cell_type": "markdown",
   "metadata": {},
   "source": [
    "From our graph, it is hard to detect any concrete trend, as all positions' heights seem to jump and down."
   ]
  },
  {
   "attachments": {},
   "cell_type": "markdown",
   "metadata": {},
   "source": [
    "## Introduction\n",
    "With the rise of sports analytics, comes the increasing demand for efficiency and data driven decisions in recruiting new players for NBA teams. Instead of simply eyeballing a player and gauging their surface level playing stats (pts, shot attempts, etc), we can now look at an entire list of detailed stats that range from the box score metric, which estimates a player's contribution to the team, to simpler metrics of offensive rebounds. With these metrics, we can compare players and determine who would be a good fit for a specific team based on their qualities. \n",
    "## Goal\n",
    "In our project, we will utilize NBA stats to **determine the type of players recruiters should look for based comparing player stats and the trends that occur over time in the NBA.** In order to accomplish this, we will use stats of over 4,000 players from 1950 - 2018 (gathered from: https://tinyurl.com/ybroccrf) and explore the data.\n",
    "\n",
    "Moreover, we will answer these 3 questions to get a better idea of the ideal NBA player.\n",
    "1. **What is the average career length a player has? Does it change based on the age started?**\n",
    "    - This will help answer questions of player's longevity and shine light on who succeeds long term vs short term.\n",
    "    \n",
    "    \n",
    "2. **Which colleges produce the players with the best stats?**\n",
    "    - While it is hard to compare the intensities in college basketball vs the NBA, colleges with better stats may be an indication of a good basketball program that can output potentially great NBA players. \n",
    "    \n",
    "    \n",
    "3. **How have basketball roles changed over the years?**\n",
    "    - For example, if we notice that Centers are becoming more technical over the years, recruiters will want to look for a Center that possesses that technical ability. \n",
    "    \n",
    "## Analysis\n",
    "#### The Ideal Player\n",
    "Based on our data, the **ideal NBA player is 255 .lb, 21 - 22.5 year old Center from Louisiana Tech University**. \n",
    "\n",
    "#### Breakdown \n",
    "1. **What is the average career length a player has? Does it change based on the age started?** To answer this question, we found the frequencies of each career length first. Interestingly, we discovered there was a high frequency of players who had 0 - 4 years of basketball. This seemed very unsual as the average retiring age in the NBA is 36 - 39. Did players get injuries? Were they not good enough to continue in the NBA, so they left to another league? Or did they retire early? We further explored if there was a correlation between the age they started and the career length. We did discover a correlation, and while this may seem intuitive, we also found that those who started around 24 had an average career length of 5 years. This would mean they would retire around 29, far from the average NBA retirement age. As a result, we concluded that 21 - 22.5 was the best age to target. \n",
    "\n",
    "![career_age](images/career_age.png)\n",
    "\n",
    "\n",
    "2. **Which colleges produce the players with the best stats?** Due to the missing data, we first had to do probabilistic imputation to impute the missing values for colleges and birth_date. Once we finished, we merged the player_data with seasons_stats to get the stats for each player. We decided to use a new metric to compare players to each others. This metric is the **player win score**. With this metric, we can give more reasonable weights to certain actions. For example, since the formula for win score is **points + rebounds + steals + .5(assists) + .5(blocked shots) - FG attempts - turnovers - .5(FT attempts) - .5(personal fouls), we can see that certain actions (assists, blocked shots, etc) either give half its value or take away.** Lastly, we decided to remove colleges with 2 or less players to make sure that one amazing player was not the only reason for a college's good performance. \n",
    "\n",
    "![colleges](images/colleges)\n",
    "\n",
    "Louisiana Tech came up on top. It is important to realize that this can change because we did probabilistic imputation. However, because it follows the distribution of the data, it is likely that only the top 5 with switch with each other. Furthermore, when we look in the NBA, we usually do not see big name Louisiana Tech alumni. This goes to show that stats do not necessarily indicate good predictive power. On the other hand, it could mean that Louisiana Tech players are underrated by most people.\n",
    "\n",
    "\n",
    "3. **How have basketball roles changed over the years?** We will analyze 4 characteristics by position and how they changed over time: player win score, 3 point attempts, weight and height. The first two deal with the technical aspects of the game while the last two deal with the physicality. \n",
    "\n",
    "![roles](images/combined.jpg)\n",
    "\n",
    "If we look at the player win score graph (Upper left), we see that Centers have recently begun to have a larger impact in games, more so than any other position. This is very interesting to see as most would think that Guards have the most impact in games. If you look at the 3 point attempts graph (Upper right), the NBA is transitioning into a more shooting based game rather than driving into the paint and doing a layup. Players are looking to shoot more, even centers as well. In terms of weight (Bottom left), the increasing trend in weight may indicate a higher physicality and emphasis on physical conditioning and training. However, the height remains constant, which makes sense as higher height will always be prioritized and there is a threshhold of maximum height for humans. "
   ]
  },
  {
   "attachments": {},
   "cell_type": "markdown",
   "metadata": {},
   "source": [
    "## Conclusion\n",
    "From our analysis and the data, we discovered the ideal age range of NBA rookies to target is 21 - 22.5 years old. Rookies from that age range tend to have longer careers (20) while career length decreases as you increase age. Moreover, players from Lousiana Tech University come out on top for players with the highest \"player win score\" metric. And when doing analysis of stats by position over time, Centers began having a greater impact on the basktball court. \n",
    "\n",
    "It was very interesting to see the correlation between age started and career longevity, which University came up on top, and which positions are having greater importance. However, it is important to understand that correlation does not indicate causation. From this analysis, I think that statistical proverb is most clear with the Lousiana Tech Univeristy example. With a quick analysis, we can see that there are no NBA \"greats\", albeit it could indicate that players from Lousiana Tech are dreadfully underrated. "
   ]
  }
 ],
 "metadata": {
  "kernelspec": {
   "display_name": "mlp",
   "language": "python",
   "name": "python3"
  },
  "language_info": {
   "codemirror_mode": {
    "name": "ipython",
    "version": 3
   },
   "file_extension": ".py",
   "mimetype": "text/x-python",
   "name": "python",
   "nbconvert_exporter": "python",
   "pygments_lexer": "ipython3",
   "version": "3.8.15"
  },
  "vscode": {
   "interpreter": {
    "hash": "c6edb8a8de37064d7b613e74ad1a7af4dd0abfb04a933303eca80fca5548ad76"
   }
  }
 },
 "nbformat": 4,
 "nbformat_minor": 4
}
